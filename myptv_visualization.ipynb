{
 "cells": [
  {
   "cell_type": "code",
   "execution_count": 1,
   "metadata": {},
   "outputs": [],
   "source": [
    "import pandas as pd\n",
    "import matplotlib.pyplot as plt\n",
    "import numpy as np\n",
    "\n",
    "%matplotlib tk"
   ]
  },
  {
   "cell_type": "code",
   "execution_count": 2,
   "metadata": {},
   "outputs": [],
   "source": [
    "names=['traj', 'x', 'y', 'z', 'vx', 'vy', 'vz', 'ax', 'ay', 'az', 't']\n",
    "data = pd.read_csv('/Users/alex/Documents/repos/myptv/with_MyPTV/smoothed_trajectories', \n",
    "                   delimiter='\\t', names = names, header=None)"
   ]
  },
  {
   "cell_type": "code",
   "execution_count": 3,
   "metadata": {},
   "outputs": [],
   "source": [
    "data = data[data['traj']!=-1]"
   ]
  },
  {
   "cell_type": "code",
   "execution_count": 4,
   "metadata": {},
   "outputs": [
    {
     "data": {
      "text/plain": [
       "30747"
      ]
     },
     "execution_count": 4,
     "metadata": {},
     "output_type": "execute_result"
    }
   ],
   "source": [
    "ids = list(set(data['traj']))\n",
    "# ids.remove(-1)\n",
    "len(ids)"
   ]
  },
  {
   "cell_type": "code",
   "execution_count": 5,
   "metadata": {},
   "outputs": [
    {
     "name": "stdout",
     "output_type": "stream",
     "text": [
      "3252\n"
     ]
    }
   ],
   "source": [
    "longs = []\n",
    "for i in ids:\n",
    "    tr = data[data['traj']==i]\n",
    "    if len(tr) > 25:\n",
    "        longs.append(tr)\n",
    "        \n",
    "print(len(longs))"
   ]
  },
  {
   "cell_type": "code",
   "execution_count": 6,
   "metadata": {},
   "outputs": [],
   "source": [
    "from mpl_toolkits import mplot3d\n",
    "import matplotlib\n",
    "cmap = matplotlib.cm.get_cmap('winter')\n",
    "import matplotlib.pyplot as plt\n",
    "\n",
    "\n",
    "fig = plt.figure()\n",
    "fig.set_size_inches(9,7)\n",
    "ax = fig.add_subplot(projection='3d')\n",
    "\n",
    "\n",
    "for tr in longs:\n",
    "    V = np.mean(tr['vx']**2 + tr['vy']**2 + tr['vz']**2)**0.5\n",
    "    color = cmap(V/0.5)\n",
    "    ax.plot(tr['x'], tr['z'],  tr['y'], color=color)\n",
    "\n",
    "ax.set_xlim(-40,40)\n",
    "ax.set_zlim(-40,40)\n",
    "ax.set_ylim(-40,40)\n",
    "\n",
    "plt.tight_layout()\n",
    "# fig.savefig('trajs.pdf')"
   ]
  },
  {
   "cell_type": "markdown",
   "metadata": {},
   "source": [
    "# Trying a 3D flowing arrows movie:"
   ]
  },
  {
   "cell_type": "code",
   "execution_count": 7,
   "metadata": {},
   "outputs": [],
   "source": [
    "fig = plt.figure()\n",
    "fig.set_size_inches(9,8)\n",
    "ax = plt.axes(projection='3d')\n",
    "plt.tight_layout()\n",
    "\n",
    "ax.set_xlim(-40,40)\n",
    "ax.set_zlim(-40,40)\n",
    "ax.set_ylim(-40,40)\n",
    "\n",
    "ax.grid(False)\n",
    "ax.xaxis.pane.set_edgecolor('w')\n",
    "ax.yaxis.pane.set_edgecolor('w')\n",
    "ax.zaxis.pane.set_edgecolor('w')\n",
    "ax.xaxis.pane.fill = False\n",
    "ax.yaxis.pane.fill = False\n",
    "ax.zaxis.pane.fill = False\n",
    "\n",
    "matplotlib.rc('axes',edgecolor='w')\n",
    "\n",
    "ax.tick_params(axis='x', colors='w')\n",
    "ax.tick_params(axis='y', colors='w')\n",
    "ax.tick_params(axis='z', colors='w')\n",
    "\n",
    "ax.w_xaxis.line.set_color(\"w\")\n",
    "ax.w_yaxis.line.set_color(\"w\")\n",
    "ax.w_zaxis.line.set_color(\"w\")\n",
    "\n",
    "ax.set_xticks([])\n",
    "ax.set_yticks([])\n",
    "ax.set_zticks([])\n",
    "\n",
    "ax.set_facecolor((0.1, 0.0, 0.0))\n",
    "fig.set_facecolor((0.1, 0.0, 0.0))"
   ]
  },
  {
   "cell_type": "code",
   "execution_count": 8,
   "metadata": {},
   "outputs": [],
   "source": [
    "import matplotlib \n",
    "cmap = matplotlib.cm.get_cmap('winter')\n",
    "\n",
    "\n",
    "frames = list(set(data['t']))\n",
    "N = 5\n",
    "\n",
    "\n",
    "for e,frm in enumerate(frames[:]):\n",
    "    ax.clear()\n",
    "    for tr in longs:\n",
    "        tr_seg = tr[(tr['t']>frm-N) & (tr['t']<frm+N)]\n",
    "        V = np.mean(tr['vx']**2+tr['vy']**2+tr['vz']**2)**0.5\n",
    "        ax.plot(tr_seg['x'], tr_seg['z'], tr_seg['y'], color=cmap((V-0.05)/0.25))\n",
    "        \n",
    "        \n",
    "    ax.set_xlim(-40,40)\n",
    "    ax.set_zlim(-40,40)\n",
    "    ax.set_ylim(-40,40)\n",
    "    #ax.set_xlabel('x [mm]')\n",
    "    #ax.set_ylabel('z [mm]')\n",
    "    #ax.set_zlabel('y [mm]')\n",
    "    \n",
    "    ax.grid(False)\n",
    "    ax.xaxis.pane.set_edgecolor('w')\n",
    "    ax.yaxis.pane.set_edgecolor('w')\n",
    "    ax.zaxis.pane.set_edgecolor('w')\n",
    "    ax.xaxis.pane.fill = False\n",
    "    ax.yaxis.pane.fill = False\n",
    "    ax.zaxis.pane.fill = False\n",
    "    \n",
    "    ax.w_xaxis.line.set_color(\"w\")\n",
    "    ax.w_yaxis.line.set_color(\"w\")\n",
    "    ax.w_zaxis.line.set_color(\"w\")\n",
    "\n",
    "    ax.set_xticks([])\n",
    "    ax.set_yticks([])\n",
    "    ax.set_zticks([])\n",
    "    \n",
    "    fig.savefig('./img/im%03d.jpg'%e)"
   ]
  },
  {
   "cell_type": "code",
   "execution_count": null,
   "metadata": {},
   "outputs": [],
   "source": [
    "import numpy as np\n",
    "import plotly.graph_objects as go\n",
    "\n",
    "fig = go.Figure(\n",
    "data=[go.Scatter3d(x=env.xsuc, y=env.ysuc, z=env.zsuc,\n",
    "mode=“markers”,marker=dict(color=“darkolivegreen”, size=10)),\n",
    "])\n",
    "\n",
    "\n",
    "\n",
    "\n",
    "fig = go.Figure(go.Scatter3d(x=env.xsuc, y=env.ysuc, z=env.zsuc, #this is the trace 0\n",
    "                        mode='markers',marker=dict(color='darkolivegreen', size=10)))\n",
    "fig.add_scatter3d(x=env.x_par, y=env.y_par, z=env.z_par,  #this is the trace 1\n",
    "                  mode='markers',marker=dict(color='gold', size=10,symbol='square'))\n",
    "N = len(env.xsuc)#it must be equal with the len(env.x_par)\n",
    "frames = [go.Frame(data= [go.Scatter3d(x=env.xsuc[:k+1],\n",
    "                                 y=env.ysuc[:k+1],\n",
    "                                 z=env.zsuc[:k+1]),\n",
    "                          go.Scatter3d(x=env.x_par[:k+1],\n",
    "                            y=env.y_par[:k+1],\n",
    "                            z=env.z_par[:k+1])],\n",
    "                   name=f'frame{k}',\n",
    "                   traces=[0,1]) for k in range(N)]  # traces =[0,1] tells plotly.js  that the first element in frame data\n",
    "                                                     #updates trace 0, while the second the trace 1\n",
    "fig.update(frames=frames)\n",
    "fig.update_layout(updatemenus=[dict(type='buttons',\n",
    "                                    buttons=[dict(label='Play',\n",
    "                                                  method='animate',\n",
    "                                                  args=[None, \n",
    "                                                        dict(frame=dict(redraw=True,\n",
    "                                                                        fromcurrent=True, \n",
    "                                                                        mode=‘immediate’)) ])])])\n",
    "fig.update_scenes(xaxis=dict(range=[0.2, 3.8],title=\"X-axis\", autorange=False),\n",
    "                  yaxis=dict(range=[-0.334,+0.334],title=\"Y-axis\", autorange=False),\n",
    "                  zaxis=dict(range=[0.7, 1.1],title =\"Z-axis\", autorange=False))\n"
   ]
  }
 ],
 "metadata": {
  "kernelspec": {
   "display_name": "Python 3",
   "language": "python",
   "name": "python3"
  },
  "language_info": {
   "codemirror_mode": {
    "name": "ipython",
    "version": 3
   },
   "file_extension": ".py",
   "mimetype": "text/x-python",
   "name": "python",
   "nbconvert_exporter": "python",
   "pygments_lexer": "ipython3",
   "version": "3.6.13"
  },
  "vscode": {
   "interpreter": {
    "hash": "31f2aee4e71d21fbe5cf8b01ff0e069b9275f58929596ceb00d14d90e3e16cd6"
   }
  }
 },
 "nbformat": 4,
 "nbformat_minor": 4
}
